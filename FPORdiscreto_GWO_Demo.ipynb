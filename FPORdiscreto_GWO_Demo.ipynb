{
 "cells": [
  {
   "cell_type": "markdown",
   "metadata": {
    "colab_type": "text",
    "id": "_BRDogkNWG5O"
   },
   "source": [
    "# Demonstração do código vetorizado para o sistema de 14 barras\n"
   ]
  },
  {
   "cell_type": "markdown",
   "metadata": {
    "colab_type": "text",
    "id": "bHVQCZUnWG5P"
   },
   "source": [
    "# Importando as bibliotecas necessárias"
   ]
  },
  {
   "cell_type": "code",
   "execution_count": 1,
   "metadata": {
    "colab": {},
    "colab_type": "code",
    "executionInfo": {
     "elapsed": 1706,
     "status": "ok",
     "timestamp": 1598925116528,
     "user": {
      "displayName": "Leonardo Campos",
      "photoUrl": "https://lh3.googleusercontent.com/a-/AOh14GjTmkqv6GKh2jzu9LUdGLH1S6_PtwOjo3NwmmdJKw=s64",
      "userId": "12979571701220592484"
     },
     "user_tz": 180
    },
    "id": "4I2W1ISpWG5Q"
   },
   "outputs": [],
   "source": [
    "import numpy as np\n",
    "import timeit\n",
    "import copy"
   ]
  },
  {
   "cell_type": "markdown",
   "metadata": {
    "colab_type": "text",
    "id": "JP_RXBUJWG5T"
   },
   "source": [
    "# Funções auxiliares\n",
    "\n",
    "Lista de funções:\n",
    "\n",
    "* discreto_superior(vetor\\_x, lista\\_discretos)\n",
    "\n",
    "    Exemplo 1:\n",
    "      Entrada:\n",
    "        vetor_x = [0.0, 0.15, 0.30, 0.39]\n",
    "        lista_discretos = [0.0, 0.19, 0.34, 0.39]\n",
    "\n",
    "      Saída:\n",
    "        x_sup = [0.19, 0.19, 0.34, 0.39]\n",
    "\n",
    "    Exemplo 2:\n",
    "       Entrada:\n",
    "        vetor_x = [1.0, 1.5, 2.1, 3.0, 4.0, 4.5]\n",
    "        lista_discretos = [0.0, 2.0, 3.5, 4.5] \n",
    "        \n",
    "      Saída:\n",
    "        x_sup = [2.0, 2.0, 3.5, 3.5, 4.5, 4.5]\n",
    "\n",
    "* discreto_inferior(vetor\\_x, lista\\_discretos)\n",
    "\n",
    "    Exemplo 1:\n",
    "      Entrada:\n",
    "        vetor_x = [0.0, 0.15, 0.30, 0.39]\n",
    "        lista_discretos = [0.0, 0.19, 0.34, 0.39]\n",
    "\n",
    "      Saída:\n",
    "        x_sup = [0.0, 0.0, 0.19, 0.34]\n",
    "\n",
    "    Exemplo 2:\n",
    "       Entrada:\n",
    "        vetor_x = [1.0, 1.5, 2.1, 3.0, 4.0, 4.5]\n",
    "        lista_discretos = [0.0, 2.0, 3.5, 4.5] \n",
    "        \n",
    "      Saída:\n",
    "        x_sup = [0.0, 0.0, 2.0, 2.0, 3.5, 3.5]\n"
   ]
  },
  {
   "cell_type": "code",
   "execution_count": 2,
   "metadata": {
    "colab": {},
    "colab_type": "code",
    "executionInfo": {
     "elapsed": 1495,
     "status": "ok",
     "timestamp": 1598925121858,
     "user": {
      "displayName": "Leonardo Campos",
      "photoUrl": "https://lh3.googleusercontent.com/a-/AOh14GjTmkqv6GKh2jzu9LUdGLH1S6_PtwOjo3NwmmdJKw=s64",
      "userId": "12979571701220592484"
     },
     "user_tz": 180
    },
    "id": "z9_VqoHmWG5T"
   },
   "outputs": [],
   "source": [
    "def discreto_superior(vetor_x, lista_discretos):\n",
    "    '''\n",
    "    Função que retorna o valor discreto superior de 'lista_discretos' mais próximo de todos os valores x de 'vetor_x' \n",
    "\n",
    "    Inputs:\n",
    "        -> vetor_x = vetor (numpy array) contendo os valores que deseja-se obter o número discreto mais próximos\n",
    "        -> lista_discretos = lista (python list) que contém o conjunto de valores discretos que cada variável x admite\n",
    "    \n",
    "    Ouputs:\n",
    "        -> x_sup = vetor (numpy array) contendo os valores discretos superiores de 'lista_discretos' mais próximo \n",
    "           dos valores de 'vetor_x'\n",
    "    '''\n",
    "    #Vetor de saída da função. Possui o mesmo formato (shape) que vetor_x\n",
    "    x_sup = np.zeros(vetor_x.shape)\n",
    "    \n",
    "    #Cópia de 'vetor_x'. Esta cópia é feita para evitar erros de alocamento dinâmico de memória.\n",
    "    vetor = np.copy(vetor_x)\n",
    "    \n",
    "    #GAMBIARRA SEM A QUAL O CÓDIGO NÃO FUNCIONA PROS VALORES DE 'vetor_x' que pertençam a 'lista_discretos'\n",
    "    #vetor = vetor + 1e-3\n",
    "    \n",
    "    #Garante que a lista seja uma array numpy e armazena o resultado na variável 'lista'\n",
    "    lista = np.asarray(lista_discretos, dtype = np.float32)\n",
    "    \n",
    "    '''\n",
    "    Garante que os valores de 'vetor_x' estejam dentro dos limites de 'lista discretos' por um pequeno fator de 10^-3.\n",
    "    Caso contrário, a função numpy.searchsorted descrita a frente resultará em erro.\n",
    "    '''\n",
    "    np.clip(a = vetor, a_min = lista[0]+1e-3, a_max = lista[-1]-1e-3, out = vetor)\n",
    "    \n",
    "    '''\n",
    "    Utilizando a função numpy.searchsorted() para buscar os índices de 'lista_discretos' que correspondem aos valores\n",
    "    discretos superiores aos valores de 'vetor_x'\n",
    "    '''\n",
    "    indices = np.searchsorted(a=lista, v = vetor, side='right')\n",
    "    \n",
    "    #Armazena os valores de 'lista_discretos' cujos índices correspondem aos discretos superiores de 'vetor_x'\n",
    "    x_sup = np.take(lista, indices)\n",
    "    \n",
    "    #Deleta as variáveis locais\n",
    "    del vetor, lista, indices\n",
    "    \n",
    "    return x_sup"
   ]
  },
  {
   "cell_type": "code",
   "execution_count": 3,
   "metadata": {
    "colab": {
     "base_uri": "https://localhost:8080/",
     "height": 34
    },
    "colab_type": "code",
    "executionInfo": {
     "elapsed": 1516,
     "status": "ok",
     "timestamp": 1598925127101,
     "user": {
      "displayName": "Leonardo Campos",
      "photoUrl": "https://lh3.googleusercontent.com/a-/AOh14GjTmkqv6GKh2jzu9LUdGLH1S6_PtwOjo3NwmmdJKw=s64",
      "userId": "12979571701220592484"
     },
     "user_tz": 180
    },
    "id": "6_eIUUgBWG5W",
    "outputId": "6428d55a-996c-4955-f2a1-1e1f3778656c"
   },
   "outputs": [
    {
     "name": "stdout",
     "output_type": "stream",
     "text": [
      "Vetor_teste = [0.   0.15 0.19 0.3  0.34 0.37 0.39]\n",
      "x_sup = [0.19 0.19 0.34 0.34 0.34 0.39 0.39]\n"
     ]
    }
   ],
   "source": [
    "'''\n",
    "Teste de discreto_superior\n",
    "'''\n",
    "vetor_teste = np.array([0., 0.15, 0.19, 0.30, 0.34, 0.37, 0.39])\n",
    "lista_teste = np.array([0, 0.19, 0.34, 0.39])\n",
    "\n",
    "print('Vetor_teste = {}'.format(vetor_teste))\n",
    "print('x_sup = {}'.format(discreto_superior(vetor_teste, lista_teste)))"
   ]
  },
  {
   "cell_type": "markdown",
   "metadata": {
    "colab_type": "text",
    "id": "iOXpUjyrWG5c"
   },
   "source": [
    "Resultado esperado:\n",
    "\n",
    "    x_sup = [0.19, 0.19, 0.34, 0.34, 0.39, 0.39, 0.39]\n"
   ]
  },
  {
   "cell_type": "code",
   "execution_count": 4,
   "metadata": {
    "colab": {},
    "colab_type": "code",
    "id": "zhxTvSE3WG5c"
   },
   "outputs": [],
   "source": [
    "def discreto_inferior(vetor_x, lista_discretos):\n",
    "    '''\n",
    "    Função que retorna o valor discreto inferior de 'lista_discretos' mais próximo de todos os valores x de 'vetor_x' \n",
    "    \n",
    "    Inputs:\n",
    "        -> vetor_x = vetor (numpy array) contendo os valores que deseja-se obter o número discreto mais próximo\n",
    "        -> lista_discretos = lista (python list) que contém o conjunto de valores discretos que cada variável x admite\n",
    "    \n",
    "    Ouputs:\n",
    "        -> x_inf = vetor (numpy array) contendo os valores discretos inferiores de 'lista_discretos' mais próximos \n",
    "           dos valores de 'vetor_x'\n",
    "    '''\n",
    "    \n",
    "    #Vetor de saída da função. Possui o mesmo formato (shape) que vetor_x\n",
    "    x_inf = np.zeros(vetor_x.shape)\n",
    "    \n",
    "    #Cópia de 'vetor_x'. Esta cópia é feita para evitar erros de alocamento dinâmico de memória.\n",
    "    vetor = np.copy(vetor_x)\n",
    "    \n",
    "    #GAMBIARRA SEM A QUAL O CÓDIGO NÃO FUNCIONA PROS VALORES DE 'vetor_x' que pertençam a 'lista_discretos'\n",
    "    #vetor = vetor - 1e-3\n",
    "    \n",
    "    #Garante que a lista seja uma array numpy e salva o resultado na variável local 'lista'\n",
    "    lista = np.asarray(lista_discretos, dtype = np.float32)\n",
    "    \n",
    "    '''\n",
    "    Garante que os valores de 'vetor_x' estejam dentro dos limites de 'lista discretos' por um pequeno fator de 10^-3.\n",
    "    Caso contrário, a função numpy.searchsorted descrita a frente resultará em erro. Salva o resultado de numpy.clip\n",
    "    na variável local 'vetor'\n",
    "    '''\n",
    "    np.clip(a = vetor, a_min = lista_discretos[0]+1e-3, a_max = lista_discretos[-1]-1e-3, out = vetor)\n",
    "    '''[np.nonzero(vetor)]'''\n",
    "    \n",
    "    \n",
    "    '''\n",
    "    Utilizando a função numpy.searchsorted() para buscar os índices de 'lista_discretos' que correspondem aos valores\n",
    "    discretos inferiores aos valores de 'vetor_x'\n",
    "    '''\n",
    "    indices = np.searchsorted(a=lista, v = vetor, side='left') - 1\n",
    "    \n",
    "    #Armazena os valores de 'lista_discretos' cujos índices correspondem aos discretos superiores de 'vetor_x'\n",
    "    x_inf = np.take(lista, indices)\n",
    "    \n",
    "    #Deleta as variáveis locais\n",
    "    del vetor, lista, indices\n",
    "    \n",
    "    return x_inf"
   ]
  },
  {
   "cell_type": "code",
   "execution_count": 5,
   "metadata": {
    "colab": {},
    "colab_type": "code",
    "id": "CN94yoEEWG5f",
    "outputId": "1d9fd0cb-2656-4301-cc47-e34ccc45a23d"
   },
   "outputs": [
    {
     "name": "stdout",
     "output_type": "stream",
     "text": [
      "Vetor_teste = [0.   0.15 0.19 0.3  0.34 0.37 0.39]\n",
      "x_inf = [0.   0.   0.19 0.19 0.19 0.34 0.34]\n"
     ]
    }
   ],
   "source": [
    "'''\n",
    "Teste de discreto_inferior\n",
    "'''\n",
    "vetor_teste = np.array([0, 0.15, 0.19, 0.30, 0.34, 0.37, 0.39])\n",
    "lista_teste = [0, 0.19, 0.34, 0.39]\n",
    "\n",
    "print('Vetor_teste = {}'.format(vetor_teste))\n",
    "print('x_inf = {}'.format(discreto_inferior(vetor_teste, lista_teste)))"
   ]
  },
  {
   "cell_type": "markdown",
   "metadata": {
    "colab_type": "text",
    "id": "oEfeQT8FWG5i"
   },
   "source": [
    "Resultado esperado:\n",
    "\n",
    "    x_inf = [0.0, 0.0, 0.0, 0.19, 0.19, 0,34, 0.34]"
   ]
  },
  {
   "cell_type": "markdown",
   "metadata": {
    "colab_type": "text",
    "id": "G6D8OOTdWG5i"
   },
   "source": [
    "# Gerenciamento da rede"
   ]
  },
  {
   "cell_type": "code",
   "execution_count": 6,
   "metadata": {
    "colab": {},
    "colab_type": "code",
    "id": "XNnjDLyZWG5j"
   },
   "outputs": [],
   "source": [
    "import pandapower as pp\n",
    "from pandapower.networks import case14\n",
    "\n",
    "rede = case14()"
   ]
  },
  {
   "cell_type": "code",
   "execution_count": 7,
   "metadata": {
    "colab": {},
    "colab_type": "code",
    "id": "r2w6DfxAWG5l"
   },
   "outputs": [],
   "source": [
    "def gerenciar_rede(rede):\n",
    "    \n",
    "    \"\"\"\n",
    "    Esta funcao organiza a rede obtida do PandaPower de modo que ela possa ser mais facilmente utilizada pelo algoritmo.\n",
    "    Suas funcionalidades são:\n",
    "        \n",
    "        -> Ordenar os parâmetros da rede (v_bus, tap, shunt, etc) por índices;\n",
    "        -> Obter os transformadores com controle de tap;\n",
    "        -> Gerar o vetor com os valores dos taps dos transformadores;\n",
    "        -> Gerar os vetores com os valores discretos para os shunts de cada sistema;\n",
    "        -> Gerar o primeiro agente de busca (que contém as variáveis do ponto de operação do sistema);\n",
    "        -> Obter as condutâncias das linhas.\n",
    "        \n",
    "    Input:\n",
    "        -> rede\n",
    "        \n",
    "    Output:\n",
    "        \n",
    "        -> rede gerenciada (não devolvida, salva diretamente na variável rede);\n",
    "        -> primeiro agente de buscas: lobo_1;\n",
    "        -> vetor de condutâncias da rede: G_rede;\n",
    "        -> matriz das linhas de transmissao: linhas\n",
    "    \"\"\"\n",
    "    \n",
    "    #Ordenar os índices da rede\n",
    "    rede.bus = rede.bus.sort_index()\n",
    "    rede.res_bus = rede.res_bus.sort_index()\n",
    "    rede.gen = rede.gen.sort_index()\n",
    "    rede.line = rede.line.sort_index()\n",
    "    rede.shunt = rede.shunt.sort_index()\n",
    "    rede.trafo = rede.trafo.sort_index()\n",
    "    \n",
    "    \n",
    "    \n",
    "    #num_trafo_controlado: variavel para armazenar o número de trafos com controle de tap\n",
    "    num_trafo_controlado = rede.trafo.tap_pos.count()\n",
    "    \n",
    "    #num_barras : variavel utilizada para salvar o numero de barras do sistema\n",
    "    num_barras = rede.bus.name.count()\n",
    "    \n",
    "    #num_shunt: variavel para armazenar o numero de shunts do sistema\n",
    "    num_shunt = rede.shunt.in_service.count()\n",
    "    \n",
    "    #num_gen: variavel para armazenar o número de barras geradoras do sistema\n",
    "    num_gen = rede.gen.in_service.count()\n",
    "    \n",
    "    '''\n",
    "    Cria as varíaveis globais nb, nt, ns, ng para facilitar o uso desses parâmetros em outros funções\n",
    "    \n",
    "    *Potencialmente desastroso*\n",
    "    '''\n",
    "    global nb, nt, ns, ng\n",
    "    nb, nt, ns, ng = num_barras, num_trafo_controlado, num_shunt, num_gen\n",
    "    \n",
    "    '''\n",
    "    Muda os valores máximos e mínimos permitidos das tensões das barras dos sistemas de 118 e 300 barras:\n",
    "        min_vm_pu: 0.94 -> 0.90\n",
    "        max_vm_pu: 1.06 -> 1.10\n",
    "    '''\n",
    "    if num_barras == 118 or num_barras == 300:\n",
    "        rede.bus.min_vm_pu = 0.90\n",
    "        rede.bus.max_vm_pu = 1.10\n",
    "    \n",
    "    #Dicionário que contem os valores dos shunts para cada sistema IEEE\n",
    "    valores_shunts = {\"14\": [[0, 0.19, 0.34, 0.39]],\n",
    "                      \"30\": [[0, 0.19, 0.34, 0.39],\n",
    "                             [0, 0.05, 0.09]],\n",
    "                      \"57\": [[0, 0.12, 0.22, 0.27], \n",
    "                             [0, 0.04, 0.07, 0.09], \n",
    "                             [0, 0.1, 0.165]],\n",
    "                      \"118\": [[-0.4, 0],\n",
    "                              [0, 0.06, 0.07, 0.13, 0.14, 0.2],\n",
    "                              [-0.25, 0],\n",
    "                              [0, 0.1],\n",
    "                              [0, 0.1],\n",
    "                              [0, 0.1],\n",
    "                              [0, 0.15],\n",
    "                              [0, 0.08, 0.12, 0.2],\n",
    "                              [0, 0.1, 0.2],\n",
    "                              [0, 0.1, 0.2],\n",
    "                              [0, 0.1, 0.2],\n",
    "                              [0, 0.1, 0.2],\n",
    "                              [0, 0.06, 0.07, 0.13, 0.14, 0.2],\n",
    "                              [0, 0.06, 0.07, 0.13, 0.14, 0.2]],\n",
    "                      \"300\": [[0, 2, 3.5, 4.5],\n",
    "                              [0, 0.25, 0.44, 0.59],\n",
    "                              [0, 0.19, 0.34, 0.39],\n",
    "                              [-4.5, 0],\n",
    "                              [-4.5, 0],\n",
    "                              [0, 0.25, 0.44, 0.59],\n",
    "                              [0, 0.25, 0.44, 0.59],\n",
    "                              [-2.5, 0],\n",
    "                              [-4.5, 0],\n",
    "                              [-4.5, 0],\n",
    "                              [-1.5, 0],\n",
    "                              [0, 0.25, 0.44, 0.59],\n",
    "                              [0, 0,15],\n",
    "                              [0, 0.15]]\n",
    "                      }\n",
    "    \n",
    "    #Vetor que contém os valores discretos dos taps: entre 0.9 e 1.1 com passo = tap_step\n",
    "    #Precisa ser um tensor de rank 1 para que a alcateia possa ser inicializada\n",
    "    global tap_step\n",
    "    tap_step = 0.00625\n",
    "    valores_taps = np.arange(start = 0.9, stop = 1.1, step = tap_step)\n",
    "    \n",
    "    \"\"\"\n",
    "    Matriz contendo as linhas de transmissão da rede:\n",
    "        -> linhas[0] = vetor com as barras de ínicio;\n",
    "        -> linhas[1] = vetor com as barras de términa;\n",
    "        -> linhas[2] = vetor com as resistências em pu (r_pu) das linhas;\n",
    "        -> linhas[3] = vetor com as reatâncias em pu (x_pu) das linhas.\n",
    "    r_pu = r_ohm/z_base\n",
    "    x_pu = x_ohm/z_base\n",
    "    g = r_pu/(r_pu^2 + x_pu^2)\n",
    "    \"\"\"\n",
    "    \n",
    "    linhas = np.zeros((4, rede.line.index[-1]+1))\n",
    "    linhas[0] = rede.line.from_bus.to_numpy()\n",
    "    linhas[1] = rede.line.to_bus.to_numpy()\n",
    "    v_temp = rede.bus.vn_kv.to_numpy()\n",
    "    z_base = np.power(np.multiply(v_temp,1000), 2)/100e6\n",
    "    for i in range(rede.line.index[-1]+1):\n",
    "        linhas[2][i] = rede.line.r_ohm_per_km[i]/z_base[int(linhas[0][i])]\n",
    "        linhas[3][i] = rede.line.x_ohm_per_km[i]/z_base[int(linhas[0][i])]\n",
    "    del v_temp, z_base\n",
    "    \n",
    "    #Vetor G_rede com as condutâncias das linhas de transmissão\n",
    "    G_rede = np.zeros((1, rede.line.index[-1]+1))\n",
    "    G_rede = np.array([np.divide(linhas[2], np.power(linhas[2],2)+np.power(linhas[3],2))])\n",
    "    \n",
    "    #Matriz de condutância nodal da rede. É equivalente à parte real da matriz de admintância nodal do sistema\n",
    "    matriz_G = np.zeros((num_barras,num_barras))\n",
    "    matriz_G[linhas[0].astype(np.int), linhas[1].astype(np.int)] = G_rede \n",
    "    \n",
    "    \"\"\"\n",
    "    O primeiro lobo (agente de busca) será inicializado com os valores de operação da rede fornecidos\n",
    "    pelo PandaPower: vetor lobo_1.\n",
    "    \n",
    "    tap_pu = (tap_pos + tap_neutral)*tap_step_percent/100 (equação fornecida pelo PandaPower)\n",
    "    shunt_pu = -100*shunt (equação fornecida pelo PandaPower)\n",
    "    \n",
    "    As variáveis v_temp, taps_temp e shunt_temp são utilizadas para receber os valores de tensão, tap e shunt da rede\n",
    "    e armazenar no vetor lobo_1\n",
    "    \"\"\"\n",
    "    \n",
    "    v_temp = rede.gen.vm_pu.to_numpy(dtype = 'float64')\n",
    "    \n",
    "    taps_temp = 1 + ((rede.trafo.tap_pos.to_numpy()[0:num_trafo_controlado] +\\\n",
    "                      rede.trafo.tap_neutral.to_numpy()[0:num_trafo_controlado]) *\\\n",
    "                     (rede.trafo.tap_step_percent.to_numpy()[0:num_trafo_controlado]/100))\n",
    "        \n",
    "    shunt_temp = -rede.shunt.q_mvar.to_numpy()/100\n",
    "    \n",
    "    lobo_1 = np.array([np.concatenate((v_temp, taps_temp, shunt_temp),axis=0)])\n",
    "    del v_temp, taps_temp, shunt_temp\n",
    "      \n",
    "    parametros_rede = {\"Linhas\": linhas,\n",
    "                       \"G\": G_rede,\n",
    "                       \"Lobo1\": lobo_1,\n",
    "                       \"Valores_shunts\": valores_shunts,\n",
    "                       \"Valores_taps\": valores_taps,\n",
    "                       \"num_barras\": num_barras,\n",
    "                       \"num_trafo_controlado\": num_trafo_controlado,\n",
    "                       \"num_shunt\": num_shunt,\n",
    "                       \"num_gen\": num_gen,\n",
    "                       \"matriz_G\": matriz_G}\n",
    "\n",
    "    return parametros_rede"
   ]
  },
  {
   "cell_type": "code",
   "execution_count": 8,
   "metadata": {
    "colab": {},
    "colab_type": "code",
    "id": "JXSm7k_LWG5o",
    "outputId": "374df020-42f4-4ea6-bb14-f9aac72456bd"
   },
   "outputs": [
    {
     "name": "stdout",
     "output_type": "stream",
     "text": [
      "O conjunto de valores discretos permitido para o shunt é: [[0, 0.19, 0.34, 0.39]]\n"
     ]
    }
   ],
   "source": [
    "'''\n",
    "Teste de gerenciar_rede()\n",
    "'''\n",
    "\n",
    "parametros_rede = gerenciar_rede(rede)\n",
    "\n",
    "conjunto_shunts = parametros_rede[\"Valores_shunts\"][str(nb)]\n",
    "print('O conjunto de valores discretos permitido para o shunt é: {}'.format(conjunto_shunts))"
   ]
  },
  {
   "cell_type": "markdown",
   "metadata": {
    "colab_type": "text",
    "id": "GsBIwQWgWG5q"
   },
   "source": [
    "Resultado esperado:\n",
    "\n",
    "    Conjunto_shunts = [[0.0, 0.19, 0.34, 0.39]]"
   ]
  },
  {
   "cell_type": "markdown",
   "metadata": {
    "colab_type": "text",
    "id": "TWIjLTglWG5r"
   },
   "source": [
    "# Inicializando a alcateia"
   ]
  },
  {
   "cell_type": "code",
   "execution_count": 9,
   "metadata": {
    "colab": {},
    "colab_type": "code",
    "id": "Hgp0xG3EWG5r"
   },
   "outputs": [],
   "source": [
    "def inicializar_alcateia(n_lobos, rede, parametros_rede):\n",
    "    '''\n",
    "    Esta função inicializa a alcateia de lobos (agentes de busca) como uma matriz (numpy array) com formato (dim+6, n_lobos)\n",
    "    \n",
    "        -> Cada coluna da matriz representa um lobo.\n",
    "        -> As linhas de 0 a dim são as variáveis do problema.\n",
    "        -> A linha dim+1 armazena a função fitness para cada lobo;\n",
    "        -> A linha dim+2 armazena a função objetivo para cada lobo;\n",
    "        -> A linha dim+3 armazena um caracter que indica a posição hierárquica do lobo:\n",
    "            + 1 = lobo alfa;\n",
    "            + 2 = lobo beta;\n",
    "            + 3 = lobo delta;\n",
    "            + 4 = lobo omega.\n",
    "        -> A linha dim+4 armazena a penalidade dos taps para cada lobo;\n",
    "        -> A linha dim+5 armazena a penalidade dos shunts para cada lobo;\n",
    "        -> A linha dim+6 armazena a penalidade das tensões para cada lobo;\n",
    "        \n",
    "    Inputs:\n",
    "        -> n_lobos = número de agentes de busca;\n",
    "        -> parametros_rede - obtido via função gerenciar_rede\n",
    "    \n",
    "    Output:\n",
    "        -> Alcateia\n",
    "    '''\n",
    "    \n",
    "    #Variável que armazena o número de variáveis do problema\n",
    "    dim = ng+nt+ns\n",
    "    \n",
    "    #Inicialização da Alcateia com zeros\n",
    "    alcateia = np.zeros((dim+6, n_lobos))\n",
    "    \n",
    "    #Inicialização aleatória das variáveis contínuas (tensões das barras geradoras) a partir de uma distribuição normal\n",
    "    alcateia[:ng, :] = np.random.uniform(rede.bus.min_vm_pu[0], rede.bus.max_vm_pu[1], size=(ng,n_lobos))\n",
    "    \n",
    "    #Inicialização dos taps dos transformadores a partir da escolha aleatória dentro dos valores discretos permitidos\n",
    "    alcateia[ng:ng+nt, :] = np.random.choice(parametros_rede[\"Valores_taps\"], size =(nt, n_lobos))\n",
    "    \n",
    "    #Inicialização dos shunts das barras a partir da escolha aleatória dentro dos valores discretos permitidos\n",
    "    #Não consegui escapar do loop de for aqui ainda =/\n",
    "    for i in range(ns):\n",
    "        alcateia[ng+nt+i, :] = np.random.choice(parametros_rede[\"Valores_shunts\"][str(nb)][i], size = (ns,n_lobos))\n",
    "    \n",
    "    #Inicializar a função fitness e a função objetivo de cada lobo\n",
    "    alcateia[dim:dim+2, :] = np.inf\n",
    "    \n",
    "    #Inicializar a posição de cada lobo como delta\n",
    "    alcateia[dim+2, :] = 4\n",
    "    \n",
    "    #Inicializar as penalidades de cada lobo\n",
    "    alcateia[dim+3:, :] = 0\n",
    "    \n",
    "    #Inserir o lobo_1\n",
    "    alcateia[:dim, 0] = parametros_rede[\"Lobo1\"]\n",
    "    \n",
    "    return alcateia"
   ]
  },
  {
   "cell_type": "code",
   "execution_count": 10,
   "metadata": {
    "colab": {},
    "colab_type": "code",
    "id": "14_wag9nWG5u",
    "outputId": "4b225bed-46eb-4fe9-c366-9b8cf98ff6a7"
   },
   "outputs": [
    {
     "name": "stdout",
     "output_type": "stream",
     "text": [
      "Primeiro lobo = [1.045, 1.01, 1.07, 1.09, 0.978, 0.969, 0.9319999999999999, 0.19, inf, inf, 4.0, 0.0, 0.0, 0.0]\n",
      "Tensões = [1.045 1.01  1.07  1.09 ]\n",
      "Taps = [0.978 0.969 0.932]\n",
      "Shunts = [0.19]\n"
     ]
    }
   ],
   "source": [
    "'''\n",
    "Teste de inicializar_alcateia()\n",
    "'''\n",
    "alcateia = inicializar_alcateia(12, rede, parametros_rede)\n",
    "print('Primeiro lobo = {}'.format(alcateia[:,0].tolist()))\n",
    "print('Tensões = {}'.format(alcateia[0:ng, 0]))\n",
    "print('Taps = {}'.format(alcateia[ng:ng+nt, 0]))\n",
    "print('Shunts = {}'.format(alcateia[ng+nt:ng+nt+ns, 0]))"
   ]
  },
  {
   "cell_type": "markdown",
   "metadata": {
    "colab_type": "text",
    "id": "lhPgapWhWG5w"
   },
   "source": [
    "Resultado esperado:\n",
    "\n",
    "    Primeiro lobo = [1.045, 1.01, 1.07, 1.09, 0.978, 0.969, 0.932, 0.19, inf, inf, 4.0, 0.0, 0.0, 0.0]\n",
    "    Tensões = [1.045, 1.01, 1.07, 1.09]\n",
    "    Taps = [0.978, 0.969, 0.932]\n",
    "    Shunt = [0.19]"
   ]
  },
  {
   "cell_type": "markdown",
   "metadata": {
    "colab_type": "text",
    "id": "LYA-dPrUWG5x"
   },
   "source": [
    "# Funções penalidade e função objetivo\n",
    "\n",
    "* **Função Penalidade Senoidal para os taps dos transformadores do sistema**\n",
    "\n",
    "A função penalidade senoidal para os taps do sistema (que pertencem a um conjunto discreto com passo constante) é dada pela equação:\n",
    "\n",
    "\\begin{equation}\n",
    "    P_{tap} = \\sum_{i = 1}^{n_t} \\Bigl[sen \\Bigl(\\pi \\dfrac{t_i}{tap_{step}}\\Bigr)\\Bigr] \n",
    "\\end{equation}\n",
    "\n",
    "\n",
    "\n",
    "\n",
    "* **Função Penalidade Senoidal para os shunts das barras do sistema**\n",
    "\n",
    "A função penalidade senoidal para os shunts do sistema (que não possuem passo discreto constante) é dada pela equação\n",
    "\n",
    "\\begin{equation}\n",
    "    P_{sen}(y) = \\sum_{i = 1}^{n_y} \\left[sen \\left( \\dfrac{y_i}{y_i^{sup} - y_i^{inf}}\\pi +\\alpha_i \\right) \\right]^2\n",
    "    \\label{pen-sen}\n",
    "\\end{equation}\n",
    "\n",
    "Em que, $y_i^{sup}$ é o valor discreto superior mais próximo de $y_i$; $y_i^{inf}$ é o valor discreto inferior mais próximo de $y_i$; $\\alpha_i$ é ($0 \\leq \\alpha_i \\leq \\pi$) é determinado de forma que $P_{sen}(y) = 0$ se, e somente se, as variáveis $y_i$, com $i = 1, 2, ..., n_y$, assumem valores discretos do conjunto $D_{y_i}$.\n",
    "\n",
    "\\begin{equation}\n",
    "    \\alpha_i = \\left( \\left \\lceil \\dfrac{y_i^{inf}}{y_i^{sup} - y_i^{inf}} \\right \\rceil - \\dfrac{y_i^{inf}}{y_i^{sup} - y_i^{inf}} \\right)\\pi\n",
    "    \\label{ai}\n",
    "\\end{equation}\n",
    "\n",
    "O operador $\\lceil n \\rceil$ representa o valor arredondado para cima do número $n$. Por construção, a função de penalidade senoidal é nula se $y_i$ assumir um valor discreto do intervalo $D_{y_i}$, para $i = 1, 2, ..., n_y$, e é positiva caso contrário. Caso a variável $y_i$ possua passo discreto constante, $\\alpha_i$ também é constante.\n",
    "\n",
    "* **Função Penalidade Estática para as tensões das barras do sistema**\n",
    "\n",
    "\n",
    "A função de penalização estática para os limites das magnitudes de tensão das barras do sistema é\n",
    "\n",
    "\\begin{equation}\n",
    "    P_V(V_{i }) = \\sum_{i = 1}^{n_b} (V_i - V_i^{lim})^2\n",
    "    \\label{pen-v}\n",
    "\\end{equation}\n",
    "\n",
    "Onde,\n",
    "\\begin{equation}\n",
    "    V_i^{lim} =\n",
    "    \\begin{cases}\n",
    "    \\overline{V_i}, & \\text{caso} \\quad V_i > \\overline{V_i}\\\\\n",
    "    V_i, & \\text{caso} \\quad \\underline{V_i} < V_i < \\overline{V_i}\\\\\n",
    "    \\underline{V_i}, & \\text{caso} \\quad V_i < \\underline{V_i}\n",
    "    \\end{cases}\n",
    "\\end{equation}\n",
    "\n",
    "* **Função Objetivo**\n",
    "\n",
    "A função objetivo do problema de FPOR (que deve ser minimizada) é:\n",
    "\n",
    "\\begin{equation*}\n",
    "    f_{obj}(V, \\theta, t) = \\sum_{k,m \\in \\Omega}g_{km}\\left(\\dfrac{1}{t_{km}^2}V_k^2 + V_m^2 - 2\\dfrac{1}{t_{km}}V_k V_m cos \\theta_{km} \\right)\n",
    "\\end{equation*}\n"
   ]
  },
  {
   "cell_type": "code",
   "execution_count": 11,
   "metadata": {},
   "outputs": [],
   "source": [
    "def penalidade_senoidal_tap(alcateia = None, DEBUG = False, vec_debug = None):\n",
    "    '''\n",
    "    Esta função retorna a penalidade senoidal sobre os taps dos transformadores para toda a alcateia.\n",
    "    Dado um tap t e um passo discreto s, a função penalidade senoidal é dada por:\n",
    "        pen_sen_tap = sum {sen^2(t*pi/s)}    \n",
    "    \n",
    "    Inputs:\n",
    "        -> alcateia\n",
    "        \n",
    "    Outputs:\n",
    "        -> pen_taps: um vetor cuja forma é (nt, n_lobos) contendo as penalizações referentes aos taps para toda a alcateia\n",
    "    '''\n",
    "    if DEBUG:\n",
    "        taps = vec_debug\n",
    "        pen_taps = np.zeros(shape = vec_debug.shape)\n",
    "    else:\n",
    "        #Variável para receber os taps de todos os lobos\n",
    "        taps = alcateia[ng:ng+nt, :]\n",
    "        #Variável para armazenar as penalidades referentes aos taps de todos os lobos\n",
    "        pen_taps = np.array(np.zeros((1, alcateia.shape[1])))\n",
    "    \n",
    "    #Executa a equação da penalização sem efetuar a soma\n",
    "    taps = np.square(np.sin(taps*np.pi/tap_step))\n",
    "    pen_taps = taps\n",
    "    \n",
    "    if not DEBUG:\n",
    "        #Executa a soma ao longo das colunas da variável taps\n",
    "        pen_taps = np.sum(taps, axis=0)\n",
    "    \n",
    "    threshold = np.less_equal(pen_taps, 1e-15)\n",
    "    pen_taps[threshold] = 0.0\n",
    "\n",
    "    #Deleta a variável taps\n",
    "    del taps\n",
    "    \n",
    "    return pen_taps"
   ]
  },
  {
   "cell_type": "code",
   "execution_count": 12,
   "metadata": {},
   "outputs": [
    {
     "name": "stdout",
     "output_type": "stream",
     "text": [
      "Tap_step = 0.00625\n",
      "Taps permitidos : [0.9     0.90625 0.9125  0.91875 0.925   0.93125 0.9375  0.94375 0.95\n",
      " 0.95625 0.9625  0.96875 0.975   0.98125 0.9875  0.99375 1.      1.00625\n",
      " 1.0125  1.01875 1.025   1.03125 1.0375  1.04375 1.05    1.05625 1.0625\n",
      " 1.06875 1.075   1.08125 1.0875  1.09375 1.1    ]\n",
      "\n",
      "\n",
      "Vetor_teste = [0.9, 1.025, 1.1, 0.903, 1.014, 1.0666]\n",
      "Penalidade = [0.0, 0.0, 0.0, 0.996057350657232, 0.4686047402352838, 0.7784378082441882]\n"
     ]
    }
   ],
   "source": [
    "'''\n",
    "Teste de penalidade_senoidal_tap()\n",
    "'''\n",
    "print('Tap_step = {}'.format(tap_step))\n",
    "print('Taps permitidos : {}'.format(parametros_rede['Valores_taps']))\n",
    "print('\\n')\n",
    "\n",
    "vec_teste = np.array([0.9, 1.025, 1.1, 0.903, 1.014, 1.0666])\n",
    "penalidade = penalidade_senoidal_tap(DEBUG = True, vec_debug = vec_teste)\n",
    "\n",
    "print('Vetor_teste = {}'.format(vec_teste.tolist()))\n",
    "print('Penalidade = {}'.format(penalidade.tolist()))"
   ]
  },
  {
   "cell_type": "markdown",
   "metadata": {},
   "source": [
    "Resultado esperado:\n",
    "\n",
    "    Penalidade = [0.0, 0.0, 0.0, 0.9960573507, 0.4686047402, 0.7784378082]"
   ]
  },
  {
   "cell_type": "code",
   "execution_count": 13,
   "metadata": {
    "colab": {},
    "colab_type": "code",
    "id": "Obwc0Co2WG5x"
   },
   "outputs": [],
   "source": [
    "def penalidade_senoidal_shunt(conjunto_shunts, alcateia = None, DEBUG = False, vec_debug = None):\n",
    "    '''\n",
    "    Esta função retorna a penalidade senoidal sobre os shunts de toda a \n",
    "    alcateia.\n",
    "    \n",
    "    Seja 'conjunto' a lista de valores discretos que o shunt admite: \n",
    "        conjunto = [b_1, b_2, b_3, b_4].\n",
    "    Seja b um shunt\n",
    "    \n",
    "    A função pen_sen_shunt deve ser nula caso 'b' pertença a 'conjunto' e \n",
    "    maior que 0 caso contrário.\n",
    "    \n",
    "    Define-se a variável a função pen_sen_shunt para o caso de um único shunt b como:\n",
    "        \n",
    "        pen_sen_shunt = sen[ pi * (b /(b_sup - b_inf)) + alfa ]\n",
    "    \n",
    "    Onde:\n",
    "        - b_sup: é o valor discreto superior mais próximo de 'b'\n",
    "        - b_inf: é o valor discreto inferior mais próximo de 'b'\n",
    "        - alfa: é uma variável escolhida para que pen_sen_shunt = 0 caso 'b' pertença a 'conjunto'\n",
    "    \n",
    "    Alfa é dada por:\n",
    "        \n",
    "        alfa = pi*[ ceil{b_inf/(b_sup - b_inf)} - b_inf/(b_sup - b_inf)]\n",
    "        \n",
    "        *ceil(x) é o valor de x arredondado para o inteiro superior mais próximo\n",
    "    \n",
    "    Inputs:\n",
    "        -> alcateia \n",
    "        -> conjunto_shunts = conjunto de valores que cada shunt de 'alcateia' pode admitir\n",
    "        \n",
    "    Outputs:\n",
    "        -> pen_shunts: um vetor cuja forma é (ns, n_lobos) contendo as penalizações referentes aos shunts para toda a alcateia\n",
    "    \n",
    "    '''\n",
    "    if DEBUG:\n",
    "        shunts = vec_debug\n",
    "        alfa = np.zeros(shape=vec_debug.shape)\n",
    "    else:\n",
    "        #Variável para receber os shunts da alcateia\n",
    "        shunts = alcateia[ng+nt:ng+nt+ns, :]\n",
    "        #A variável alfa será um vetor no formato (ns, 1)\n",
    "        alfa = np.zeros(shape=(ns, alcateia.shape[-1]))\n",
    "    \n",
    "    \n",
    "    \n",
    "    #Variáveis temporárias para armazenar b_inf's e b_sup's, obtidos pelas funções auxiliares descritas no ínicio do código\n",
    "    shunts_sup = discreto_superior(shunts, conjunto_shunts)\n",
    "    shunts_inf = discreto_inferior(shunts, conjunto_shunts)\n",
    "    \n",
    "    d = shunts_sup - shunts_inf\n",
    "    if DEBUG:\n",
    "        print('d: {}'.format(d))\n",
    "    alfa = np.pi * (np.ceil(shunts_inf/d) - shunts_inf/d)\n",
    "    \n",
    "    pen_shunts = np.sin(alfa + np.pi*(shunts/d))\n",
    "    pen_shunts = np.square(pen_shunts)\n",
    "    if not DEBUG:\n",
    "        pen_shunts = np.sum(pen_shunts, axis = 0)\n",
    "    threshold = np.less_equal(pen_shunts, 1e-12)\n",
    "    pen_shunts[threshold] = 0.0\n",
    "    \n",
    "    return pen_shunts"
   ]
  },
  {
   "cell_type": "code",
   "execution_count": 14,
   "metadata": {
    "colab": {},
    "colab_type": "code",
    "id": "loGsE8JLWG50",
    "outputId": "4b7008c4-c95f-4643-f400-f91b61e8bd85"
   },
   "outputs": [
    {
     "name": "stdout",
     "output_type": "stream",
     "text": [
      "d: [0.19       0.15       0.15       0.04999998 0.19       0.15\n",
      " 0.04999998]\n",
      "V_teste = [0.   0.19 0.34 0.39 0.15 0.21 0.35]\n",
      "Penalidade = [0.0, 0.0, 0.0, 0.0, 0.377257226259472, 0.16543461458424602, 0.3454912896838885]\n"
     ]
    }
   ],
   "source": [
    "'''\n",
    "Teste de penalidade_senoidal_shunt()\n",
    "'''\n",
    "v_teste= np.array([0.0, 0.19, 0.34,  0.39, 0.15, 0.21, 0.35])\n",
    "p = penalidade_senoidal_shunt(conjunto_shunts[0], DEBUG = True, vec_debug = v_teste)\n",
    "print('V_teste = {}'.format(v_teste))\n",
    "print('Penalidade = {}'.format(p.tolist()))"
   ]
  },
  {
   "cell_type": "markdown",
   "metadata": {},
   "source": [
    "Resultado esperado:\n",
    "\n",
    "    Penalidade = [0.0, 0.0, 0.0, 0.0, 0.37725726, 0.16543469, 0.34549150]"
   ]
  },
  {
   "cell_type": "code",
   "execution_count": 34,
   "metadata": {},
   "outputs": [],
   "source": [
    "def funcao_objetivo_e_pen_v(rede, matriz_G, v_lim_sup, v_lim_inf):\n",
    "    \"\"\"\n",
    "    E função  calcula a função objetivo para o problema de FPOR e também calcula\n",
    "    a penalização das tensões que ultrapassam o limite superior ou ficam abaixo do limite\n",
    "    inferior para cada agente de busca.\n",
    "    \n",
    "    Esta função não é vetorizada para toda a alcateia\n",
    "    \n",
    "    A função objetivo deste problema dá as perdas de potência ativa no SEP.\n",
    "    \n",
    "    f = sum g_km * [v_k^2 + v_m^2 - 2*v_k*v_m*cos(theta_k - theta_m)]\n",
    "    \n",
    "    A penalização das tensões é:\n",
    "        \n",
    "    pen_v = sum(v - v_lim)^2\n",
    "        v_lim = v_lim_sup, se v > v_lim_sup\n",
    "        v_lim = v, se v_lim_inf < v < v_lim_sup\n",
    "        v_lim = v_lim_inf, se v < v_lim_inf\n",
    "        \n",
    "    Inputs:\n",
    "        -> rede = sistema elétrico de testes\n",
    "        -> matriz_G = matriz de condutância nodal do sistema\n",
    "        -> v_lim_sup = vetor contendo os limites superiores de tensão nas barras do sistema\n",
    "        -> v_lim_inf = vetor contendo os limites inferiores de tensão nas barras do sistema\n",
    "    Outputs:\n",
    "        -> f = função objetivo do problema de FPOR\n",
    "        -> pen_v = penalidade de violação dos limites de tensão das barras\n",
    "    \n",
    "    \"\"\"\n",
    "    \n",
    "    v_k = np.array([rede.res_bus.vm_pu.to_numpy(dtype = np.float64)])\n",
    "    v_m = v_k.T\n",
    "    \n",
    "    theta_k = np.radians(np.array([rede.res_bus.va_degree.to_numpy(dtype = np.float64)]))\n",
    "    theta_m = theta_k.T\n",
    "    \n",
    "    #Calculo da função objetivo\n",
    "    f = np.power(v_k,2) + np.power(v_m,2) - 2*np.multiply(np.multiply(v_k,v_m),np.cos(theta_k-theta_m))\n",
    "    f = np.multiply(matriz_G, f)\n",
    "    f=np.squeeze(np.sum(np.array([f[np.nonzero(f)]])))\n",
    "    \n",
    "    #Calculo da penalidade das tensões\n",
    "    \n",
    "    #Violação do limite superior (v - v_lim), v > v_lim_sup\n",
    "    v_up = v_k - v_lim_sup\n",
    "    v_up = v_up[np.greater(v_up, 0.0)]\n",
    "    \n",
    "    #Violação do limite inferior (v-v_lim), v < v_lim_inf\n",
    "    v_down = v_k - v_lim_inf\n",
    "    v_down = v_down[np.less(v_down, 0.0)]\n",
    "    \n",
    "    pen_v = np.squeeze(np.sum(np.square(v_up)) + np.sum(np.square(v_down)))\n",
    "\n",
    "    return f, pen_v"
   ]
  },
  {
   "cell_type": "code",
   "execution_count": 35,
   "metadata": {},
   "outputs": [
    {
     "name": "stdout",
     "output_type": "stream",
     "text": [
      "Função objetivo = 0.13393272357766134\n",
      "Penalidade = 0.0010023089789910904\n"
     ]
    }
   ],
   "source": [
    "'''\n",
    "Teste de funcao_objetivo_e_pen_v()\n",
    "'''\n",
    "\n",
    "matriz_G = parametros_rede[\"matriz_G\"]\n",
    "v_lim_sup = rede.bus.max_vm_pu.to_numpy(dtype = np.float64)\n",
    "v_lim_inf = rede.bus.min_vm_pu.to_numpy(dtype = np.float64)\n",
    "pp.runpp(rede, algorithm='fdbx')\n",
    "\n",
    "func_obj, penalidade = funcao_objetivo_e_pen_v(rede, matriz_G, v_lim_sup, v_lim_inf)\n",
    "\n",
    "print('Função objetivo = {}'.format(func_obj))\n",
    "print('Penalidade = {}'.format(penalidade))"
   ]
  },
  {
   "cell_type": "markdown",
   "metadata": {},
   "source": [
    "Resultado esperado:\n",
    "\n",
    "    Função objetivo = 0.13393272357766134\n",
    "    Penalidade = 0.0010023089789910904"
   ]
  },
  {
   "cell_type": "code",
   "execution_count": null,
   "metadata": {},
   "outputs": [],
   "source": []
  }
 ],
 "metadata": {
  "colab": {
   "collapsed_sections": [],
   "name": "testes_das_funcoes.ipynb",
   "provenance": []
  },
  "kernelspec": {
   "display_name": "Python 3",
   "language": "python",
   "name": "python3"
  },
  "language_info": {
   "codemirror_mode": {
    "name": "ipython",
    "version": 3
   },
   "file_extension": ".py",
   "mimetype": "text/x-python",
   "name": "python",
   "nbconvert_exporter": "python",
   "pygments_lexer": "ipython3",
   "version": "3.7.7"
  }
 },
 "nbformat": 4,
 "nbformat_minor": 1
}
